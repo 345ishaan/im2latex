{
 "cells": [
  {
   "cell_type": "code",
   "execution_count": 3,
   "metadata": {
    "collapsed": true
   },
   "outputs": [],
   "source": [
    "import numpy as np\n",
    "import re\n",
    "from IPython.display import display, Math, Latex, Image"
   ]
  },
  {
   "cell_type": "markdown",
   "metadata": {},
   "source": [
    "### Load properties file, result files created by predict() function"
   ]
  },
  {
   "cell_type": "code",
   "execution_count": 4,
   "metadata": {
    "collapsed": true
   },
   "outputs": [],
   "source": [
    "import numpy as np\n",
    "imgs = np.load('pred_imgs.npy')\n",
    "preds = np.load('pred_latex.npy')\n",
    "properties = np.load('properties.npy').tolist()\n",
    "displayPreds = lambda Y: display(Math(Y.split('#END')[0]))\n",
    "idx_to_chars = lambda Y: ' '.join(map(lambda x: properties['idx_to_char'][x],Y))\n",
    "#displayIdxs = lambda Y: display(Math(''.join(map(lambda x: properties['idx_to_char'][x],Y))))"
   ]
  },
  {
   "cell_type": "markdown",
   "metadata": {},
   "source": [
    "### Prepare Image display function"
   ]
  },
  {
   "cell_type": "code",
   "execution_count": 5,
   "metadata": {
    "collapsed": true
   },
   "outputs": [],
   "source": [
    "import PIL.Image\n",
    "from cStringIO import StringIO\n",
    "import IPython.display\n",
    "import numpy as np\n",
    "def showarray(a, fmt='png'):\n",
    "    a = np.uint8(a)\n",
    "    f = StringIO()\n",
    "    PIL.Image.fromarray(a).save(f, fmt)\n",
    "    IPython.display.display(IPython.display.Image(data=f.getvalue()))"
   ]
  },
  {
   "cell_type": "markdown",
   "metadata": {},
   "source": [
    "### Display original Input image, predicted latex tokens and render the corresponding result"
   ]
  },
  {
   "cell_type": "code",
   "execution_count": 6,
   "metadata": {
    "collapsed": false
   },
   "outputs": [
    {
     "name": "stdout",
     "output_type": "stream",
     "text": [
      "Original (Input) Image: 1\n"
     ]
    },
    {
     "data": {
      "image/png": "[encoded data removed]",
      "text/plain": [
       "<IPython.core.display.Image object>"
      ]
     },
     "metadata": {},
     "output_type": "display_data"
    },
    {
     "name": "stdout",
     "output_type": "stream",
     "text": [
      "Predicted Latex\n",
      "\\Gamma _ { N } \\pm N ! ( \\frac { a g ^ { 2 } } { M } ) ^ { N } ; \\; \\; a = 4 . 5 5 \\times 1 0 ^ { - 4 } . \n",
      "\n",
      "Rendering the predicted latex\n"
     ]
    },
    {
     "data": {
      "text/latex": [
       "$$\\Gamma _ { N } \\pm N ! ( \\frac { a g ^ { 2 } } { M } ) ^ { N } ; \\; \\; a = 4 . 5 5 \\times 1 0 ^ { - 4 } . $$"
      ],
      "text/plain": [
       "<IPython.core.display.Math object>"
      ]
     },
     "metadata": {},
     "output_type": "display_data"
    },
    {
     "name": "stdout",
     "output_type": "stream",
     "text": [
      "\n",
      "\n",
      "Original (Input) Image: 2\n"
     ]
    },
    {
     "data": {
      "image/png": "[encoded data removed]",
      "text/plain": [
       "<IPython.core.display.Image object>"
      ]
     },
     "metadata": {},
     "output_type": "display_data"
    },
    {
     "name": "stdout",
     "output_type": "stream",
     "text": [
      "Predicted Latex\n",
      "\\lambda ( \\lambda - 1 ) \\frac { \\partial ^ { 2 } } { \\partial \\lambda ^ { 2 } } \\Omega ( \\lambda ) + ( 2 \\lambda - 1 ) \\frac { \\partial } { \\partial \\lambda } \\Omega ( \\lambda ) + \n",
      "\n",
      "Rendering the predicted latex\n"
     ]
    },
    {
     "data": {
      "text/latex": [
       "$$\\lambda ( \\lambda - 1 ) \\frac { \\partial ^ { 2 } } { \\partial \\lambda ^ { 2 } } \\Omega ( \\lambda ) + ( 2 \\lambda - 1 ) \\frac { \\partial } { \\partial \\lambda } \\Omega ( \\lambda ) + $$"
      ],
      "text/plain": [
       "<IPython.core.display.Math object>"
      ]
     },
     "metadata": {},
     "output_type": "display_data"
    },
    {
     "name": "stdout",
     "output_type": "stream",
     "text": [
      "\n",
      "\n",
      "Original (Input) Image: 3\n"
     ]
    },
    {
     "data": {
      "image/png": "[encoded data removed]",
      "text/plain": [
       "<IPython.core.display.Image object>"
      ]
     },
     "metadata": {},
     "output_type": "display_data"
    },
    {
     "name": "stdout",
     "output_type": "stream",
     "text": [
      "Predicted Latex\n",
      "\\frac { d n ^ { ( \\lambda ) } ( \\omega ) } { d \\omega } = 2 \\omega \\mathrm { T r } [ \\delta ( H ^ { 2 } ( \\lambda ) - \\omega ^ { 2 } ) ] ~ ~ ~ . \n",
      "\n",
      "Rendering the predicted latex\n"
     ]
    },
    {
     "data": {
      "text/latex": [
       "$$\\frac { d n ^ { ( \\lambda ) } ( \\omega ) } { d \\omega } = 2 \\omega \\mathrm { T r } [ \\delta ( H ^ { 2 } ( \\lambda ) - \\omega ^ { 2 } ) ] ~ ~ ~ . $$"
      ],
      "text/plain": [
       "<IPython.core.display.Math object>"
      ]
     },
     "metadata": {},
     "output_type": "display_data"
    },
    {
     "name": "stdout",
     "output_type": "stream",
     "text": [
      "\n",
      "\n",
      "Original (Input) Image: 4\n"
     ]
    },
    {
     "data": {
      "image/png": "[encoded data removed]",
      "text/plain": [
       "<IPython.core.display.Image object>"
      ]
     },
     "metadata": {},
     "output_type": "display_data"
    },
    {
     "name": "stdout",
     "output_type": "stream",
     "text": [
      "Predicted Latex\n",
      "\\zeta _ { R } ( s ) \\ = \\ 2 \\operatorname { s i n } ( s \\pi / 2 ) \\int _ { 0 } ^ { \\infty } d t \\frac { t ^ { - s } } { e ^ { \\pi t } - 1 } \\ . \n",
      "\n",
      "Rendering the predicted latex\n"
     ]
    },
    {
     "data": {
      "text/latex": [
       "$$\\zeta _ { R } ( s ) \\ = \\ 2 \\operatorname { s i n } ( s \\pi / 2 ) \\int _ { 0 } ^ { \\infty } d t \\frac { t ^ { - s } } { e ^ { \\pi t } - 1 } \\ . $$"
      ],
      "text/plain": [
       "<IPython.core.display.Math object>"
      ]
     },
     "metadata": {},
     "output_type": "display_data"
    },
    {
     "name": "stdout",
     "output_type": "stream",
     "text": [
      "\n",
      "\n",
      "Original (Input) Image: 5\n"
     ]
    },
    {
     "data": {
      "image/png": "[encoded data removed]",
      "text/plain": [
       "<IPython.core.display.Image object>"
      ]
     },
     "metadata": {},
     "output_type": "display_data"
    },
    {
     "name": "stdout",
     "output_type": "stream",
     "text": [
      "Predicted Latex\n",
      "{ \\bf X } _ { i } ( t ) = \\frac { 2 } { N } r ( t ) J _ { i } , \\; \\; \\; \\; \\; i \\in \\{ 1 , 2 , 3 \\} \\, . \n",
      "\n",
      "Rendering the predicted latex\n"
     ]
    },
    {
     "data": {
      "text/latex": [
       "$${ \\bf X } _ { i } ( t ) = \\frac { 2 } { N } r ( t ) J _ { i } , \\; \\; \\; \\; \\; i \\in \\{ 1 , 2 , 3 \\} \\, . $$"
      ],
      "text/plain": [
       "<IPython.core.display.Math object>"
      ]
     },
     "metadata": {},
     "output_type": "display_data"
    },
    {
     "name": "stdout",
     "output_type": "stream",
     "text": [
      "\n",
      "\n",
      "Original (Input) Image: 6\n"
     ]
    },
    {
     "data": {
      "image/png": "[encoded data removed]",
      "text/plain": [
       "<IPython.core.display.Image object>"
      ]
     },
     "metadata": {},
     "output_type": "display_data"
    },
    {
     "name": "stdout",
     "output_type": "stream",
     "text": [
      "Predicted Latex\n",
      "\\sqrt { \\operatorname* { d e t } J } = e ^ { 3 N \\lambda _ { 0 } } W \\prod _ { i , j > i } | \\omega _ { i } - \\omega _ { j } | ^ { 2 \\beta _ { i } j } . \n",
      "\n",
      "Rendering the predicted latex\n"
     ]
    },
    {
     "data": {
      "text/latex": [
       "$$\\sqrt { \\operatorname* { d e t } J } = e ^ { 3 N \\lambda _ { 0 } } W \\prod _ { i , j > i } | \\omega _ { i } - \\omega _ { j } | ^ { 2 \\beta _ { i } j } . $$"
      ],
      "text/plain": [
       "<IPython.core.display.Math object>"
      ]
     },
     "metadata": {},
     "output_type": "display_data"
    },
    {
     "name": "stdout",
     "output_type": "stream",
     "text": [
      "\n",
      "\n",
      "Original (Input) Image: 7\n"
     ]
    },
    {
     "data": {
      "image/png": "[encoded data removed]",
      "text/plain": [
       "<IPython.core.display.Image object>"
      ]
     },
     "metadata": {},
     "output_type": "display_data"
    },
    {
     "name": "stdout",
     "output_type": "stream",
     "text": [
      "Predicted Latex\n",
      "\\beta ( e ) = - \\frac { e ^ { 3 } } { 1 6 \\pi ^ { 2 } } ( c _ { g a u g e } + c _ { \\lambda } + c _ { q } + c _ { s q } ) \n",
      "\n",
      "Rendering the predicted latex\n"
     ]
    },
    {
     "data": {
      "text/latex": [
       "$$\\beta ( e ) = - \\frac { e ^ { 3 } } { 1 6 \\pi ^ { 2 } } ( c _ { g a u g e } + c _ { \\lambda } + c _ { q } + c _ { s q } ) $$"
      ],
      "text/plain": [
       "<IPython.core.display.Math object>"
      ]
     },
     "metadata": {},
     "output_type": "display_data"
    },
    {
     "name": "stdout",
     "output_type": "stream",
     "text": [
      "\n",
      "\n",
      "Original (Input) Image: 8\n"
     ]
    },
    {
     "data": {
      "image/png": "[encoded data removed]",
      "text/plain": [
       "<IPython.core.display.Image object>"
      ]
     },
     "metadata": {},
     "output_type": "display_data"
    },
    {
     "name": "stdout",
     "output_type": "stream",
     "text": [
      "Predicted Latex\n",
      "\\beta ( e ) = - \\frac { e ^ { 3 } } { 1 6 \\pi ^ { 2 } } ( c _ { g a u g e } + c _ { \\lambda } + c _ { q } + c _ { s q } ) \n",
      "\n",
      "Rendering the predicted latex\n"
     ]
    },
    {
     "data": {
      "text/latex": [
       "$$\\beta ( e ) = - \\frac { e ^ { 3 } } { 1 6 \\pi ^ { 2 } } ( c _ { g a u g e } + c _ { \\lambda } + c _ { q } + c _ { s q } ) $$"
      ],
      "text/plain": [
       "<IPython.core.display.Math object>"
      ]
     },
     "metadata": {},
     "output_type": "display_data"
    },
    {
     "name": "stdout",
     "output_type": "stream",
     "text": [
      "\n",
      "\n",
      "Original (Input) Image: 9\n"
     ]
    },
    {
     "data": {
      "image/png": "[encoded data removed]",
      "text/plain": [
       "<IPython.core.display.Image object>"
      ]
     },
     "metadata": {},
     "output_type": "display_data"
    },
    {
     "name": "stdout",
     "output_type": "stream",
     "text": [
      "Predicted Latex\n",
      "{ \\cal B } ( k , \\alpha ) = \\left( \\begin{array} { c c } { u ( k , \\alpha ) } & { - v ( k , \\alpha ) } \\\\ { - v ( k , \\alpha ) } & { u ( k , \\alpha ) } \\\\ \\end{array} \\right) , \n",
      "\n",
      "Rendering the predicted latex\n"
     ]
    },
    {
     "data": {
      "text/latex": [
       "$${ \\cal B } ( k , \\alpha ) = \\left( \\begin{array} { c c } { u ( k , \\alpha ) } & { - v ( k , \\alpha ) } \\\\ { - v ( k , \\alpha ) } & { u ( k , \\alpha ) } \\\\ \\end{array} \\right) , $$"
      ],
      "text/plain": [
       "<IPython.core.display.Math object>"
      ]
     },
     "metadata": {},
     "output_type": "display_data"
    },
    {
     "name": "stdout",
     "output_type": "stream",
     "text": [
      "\n",
      "\n",
      "Original (Input) Image: 10\n"
     ]
    },
    {
     "data": {
      "image/png": "[encoded data removed]",
      "text/plain": [
       "<IPython.core.display.Image object>"
      ]
     },
     "metadata": {},
     "output_type": "display_data"
    },
    {
     "name": "stdout",
     "output_type": "stream",
     "text": [
      "Predicted Latex\n",
      "P _ { + } ^ { \\beta - \\gamma } = \\mathrm { T r } ( e ^ { i \\theta ( H + P _ { R } ^ { \\beta - \\gamma } } ) = \\left( \\frac { \\eta ( \\theta ) } { \\vartheta _ { 2 } ( 0 \\mid \\theta ) } \\right) \n",
      "\n",
      "Rendering the predicted latex\n"
     ]
    },
    {
     "data": {
      "text/latex": [
       "$$P _ { + } ^ { \\beta - \\gamma } = \\mathrm { T r } ( e ^ { i \\theta ( H + P _ { R } ^ { \\beta - \\gamma } } ) = \\left( \\frac { \\eta ( \\theta ) } { \\vartheta _ { 2 } ( 0 \\mid \\theta ) } \\right) $$"
      ],
      "text/plain": [
       "<IPython.core.display.Math object>"
      ]
     },
     "metadata": {},
     "output_type": "display_data"
    },
    {
     "name": "stdout",
     "output_type": "stream",
     "text": [
      "\n",
      "\n",
      "Original (Input) Image: 11\n"
     ]
    },
    {
     "data": {
      "image/png": "[encoded data removed]",
      "text/plain": [
       "<IPython.core.display.Image object>"
      ]
     },
     "metadata": {},
     "output_type": "display_data"
    },
    {
     "name": "stdout",
     "output_type": "stream",
     "text": [
      "Predicted Latex\n",
      "B _ { i _ { 1 } , . . . , i _ { p } } ^ { p T } ( r , x _ { j } ) = \\sum _ { l ( l ) } Y _ { i _ { 1 } , \\ldots , i _ { p } } ^ { ( l ) p } ( x _ { j } ) f ( l ) ( r ) . \n",
      "\n",
      "Rendering the predicted latex\n"
     ]
    },
    {
     "data": {
      "text/latex": [
       "$$B _ { i _ { 1 } , . . . , i _ { p } } ^ { p T } ( r , x _ { j } ) = \\sum _ { l ( l ) } Y _ { i _ { 1 } , \\ldots , i _ { p } } ^ { ( l ) p } ( x _ { j } ) f ( l ) ( r ) . $$"
      ],
      "text/plain": [
       "<IPython.core.display.Math object>"
      ]
     },
     "metadata": {},
     "output_type": "display_data"
    },
    {
     "name": "stdout",
     "output_type": "stream",
     "text": [
      "\n",
      "\n",
      "Original (Input) Image: 12\n"
     ]
    },
    {
     "data": {
      "image/png": "[encoded data removed]",
      "text/plain": [
       "<IPython.core.display.Image object>"
      ]
     },
     "metadata": {},
     "output_type": "display_data"
    },
    {
     "name": "stdout",
     "output_type": "stream",
     "text": [
      "Predicted Latex\n",
      "W _ { b } = \\int _ { \\xi { \\cal { S } } ( \\tau = - { \\frac { \\pi } { 1 i l } } ) = 0 } p _ { b } ( { \\xi } ) d \\xi = { \\frac { 3 } { 8 G ^ { 2 } \\rho _ { v } } } \n",
      "\n",
      "Rendering the predicted latex\n"
     ]
    },
    {
     "data": {
      "text/latex": [
       "$$W _ { b } = \\int _ { \\xi { \\cal { S } } ( \\tau = - { \\frac { \\pi } { 1 i l } } ) = 0 } p _ { b } ( { \\xi } ) d \\xi = { \\frac { 3 } { 8 G ^ { 2 } \\rho _ { v } } } $$"
      ],
      "text/plain": [
       "<IPython.core.display.Math object>"
      ]
     },
     "metadata": {},
     "output_type": "display_data"
    },
    {
     "name": "stdout",
     "output_type": "stream",
     "text": [
      "\n",
      "\n",
      "Original (Input) Image: 13\n"
     ]
    },
    {
     "data": {
      "image/png": "[encoded data removed]",
      "text/plain": [
       "<IPython.core.display.Image object>"
      ]
     },
     "metadata": {},
     "output_type": "display_data"
    },
    {
     "name": "stdout",
     "output_type": "stream",
     "text": [
      "Predicted Latex\n",
      "\\alpha = \\operatorname { c o s } a = \\frac { \\operatorname { c o s } \\frac { \\mu _ { 2 } } { 2 } \\operatorname { c o s } \\frac { \\mu _ { 2 } } { 2 } - \\operatorname { c o s } \\frac { \\mu _ { 1 } } { 2 } } \n",
      "\n",
      "Rendering the predicted latex\n"
     ]
    },
    {
     "data": {
      "text/latex": [
       "$$\\alpha = \\operatorname { c o s } a = \\frac { \\operatorname { c o s } \\frac { \\mu _ { 2 } } { 2 } \\operatorname { c o s } \\frac { \\mu _ { 2 } } { 2 } - \\operatorname { c o s } \\frac { \\mu _ { 1 } } { 2 } } $$"
      ],
      "text/plain": [
       "<IPython.core.display.Math object>"
      ]
     },
     "metadata": {},
     "output_type": "display_data"
    },
    {
     "name": "stdout",
     "output_type": "stream",
     "text": [
      "\n",
      "\n",
      "Original (Input) Image: 14\n"
     ]
    },
    {
     "data": {
      "image/png": "[encoded data removed]",
      "text/plain": [
       "<IPython.core.display.Image object>"
      ]
     },
     "metadata": {},
     "output_type": "display_data"
    },
    {
     "name": "stdout",
     "output_type": "stream",
     "text": [
      "Predicted Latex\n",
      "\\frac { \\partial b _ { n , l } ^ { * } } { \\partial t _ { 1 } } = ( a _ { n , l } - 1 ) + \\frac { 1 } { t _ { 1 } } \\frac { b _ { n , l } ^ { * } ( t _ { - 1 } b _ { n , l } - l ) } { 1 - a _ { n , l } } . \n",
      "\n",
      "Rendering the predicted latex\n"
     ]
    },
    {
     "data": {
      "text/latex": [
       "$$\\frac { \\partial b _ { n , l } ^ { * } } { \\partial t _ { 1 } } = ( a _ { n , l } - 1 ) + \\frac { 1 } { t _ { 1 } } \\frac { b _ { n , l } ^ { * } ( t _ { - 1 } b _ { n , l } - l ) } { 1 - a _ { n , l } } . $$"
      ],
      "text/plain": [
       "<IPython.core.display.Math object>"
      ]
     },
     "metadata": {},
     "output_type": "display_data"
    },
    {
     "name": "stdout",
     "output_type": "stream",
     "text": [
      "\n",
      "\n",
      "Original (Input) Image: 15\n"
     ]
    },
    {
     "data": {
      "image/png": "[encoded data removed]",
      "text/plain": [
       "<IPython.core.display.Image object>"
      ]
     },
     "metadata": {},
     "output_type": "display_data"
    },
    {
     "name": "stdout",
     "output_type": "stream",
     "text": [
      "Predicted Latex\n",
      "w = \\frac { E ^ { 2 } + H ^ { 2 } } { 8 \\pi } , \\qquad \\qquad \\frac { \\partial w } { \\partial t } = - \\nabla \\cdot { \\bf S } \n",
      "\n",
      "Rendering the predicted latex\n"
     ]
    },
    {
     "data": {
      "text/latex": [
       "$$w = \\frac { E ^ { 2 } + H ^ { 2 } } { 8 \\pi } , \\qquad \\qquad \\frac { \\partial w } { \\partial t } = - \\nabla \\cdot { \\bf S } $$"
      ],
      "text/plain": [
       "<IPython.core.display.Math object>"
      ]
     },
     "metadata": {},
     "output_type": "display_data"
    },
    {
     "name": "stdout",
     "output_type": "stream",
     "text": [
      "\n",
      "\n",
      "Original (Input) Image: 16\n"
     ]
    },
    {
     "data": {
      "image/png": "[encoded data removed]",
      "text/plain": [
       "<IPython.core.display.Image object>"
      ]
     },
     "metadata": {},
     "output_type": "display_data"
    },
    {
     "name": "stdout",
     "output_type": "stream",
     "text": [
      "Predicted Latex\n",
      "\\{ A _ { s _ { r } } \\ldots A _ { s _ { \\tau } } \\} _ { k } = \\frac { 1 } { k _ { r } } \\sum _ { \\sigma \\in \\Sigma } ( A _ { s _ { _ { x } ) } } \\ldots A _ { s _ { ( k ) } } ) \n",
      "\n",
      "Rendering the predicted latex\n"
     ]
    },
    {
     "data": {
      "text/latex": [
       "$$\\{ A _ { s _ { r } } \\ldots A _ { s _ { \\tau } } \\} _ { k } = \\frac { 1 } { k _ { r } } \\sum _ { \\sigma \\in \\Sigma } ( A _ { s _ { _ { x } ) } } \\ldots A _ { s _ { ( k ) } } ) $$"
      ],
      "text/plain": [
       "<IPython.core.display.Math object>"
      ]
     },
     "metadata": {},
     "output_type": "display_data"
    },
    {
     "name": "stdout",
     "output_type": "stream",
     "text": [
      "\n",
      "\n",
      "Original (Input) Image: 17\n"
     ]
    },
    {
     "data": {
      "image/png": "[encoded data removed]",
      "text/plain": [
       "<IPython.core.display.Image object>"
      ]
     },
     "metadata": {},
     "output_type": "display_data"
    },
    {
     "name": "stdout",
     "output_type": "stream",
     "text": [
      "Predicted Latex\n",
      "\\ell = \\sqrt { | b | } , v _ { 1 , 2 } \\simeq { \\frac { z ^ { 3 } } { 2 \\ell } } - { \\frac { z ^ { 4 } } { \\ell ^ { 4 } } } + \\ldots \\rightarrow 0 . \n",
      "\n",
      "Rendering the predicted latex\n"
     ]
    },
    {
     "data": {
      "text/latex": [
       "$$\\ell = \\sqrt { | b | } , v _ { 1 , 2 } \\simeq { \\frac { z ^ { 3 } } { 2 \\ell } } - { \\frac { z ^ { 4 } } { \\ell ^ { 4 } } } + \\ldots \\rightarrow 0 . $$"
      ],
      "text/plain": [
       "<IPython.core.display.Math object>"
      ]
     },
     "metadata": {},
     "output_type": "display_data"
    },
    {
     "name": "stdout",
     "output_type": "stream",
     "text": [
      "\n",
      "\n",
      "Original (Input) Image: 18\n"
     ]
    },
    {
     "data": {
      "image/png": "[encoded data removed]",
      "text/plain": [
       "<IPython.core.display.Image object>"
      ]
     },
     "metadata": {},
     "output_type": "display_data"
    },
    {
     "name": "stdout",
     "output_type": "stream",
     "text": [
      "Predicted Latex\n",
      "\\beta ( Q ^ { 2 } ) = Q ^ { 2 } \\, \\int _ { 0 } ^ { \\infty } \\, { \\frac { d s } { ( s + Q ^ { 2 } ) ^ { 2 } } } \\, \\beta _ { s } ( s ) \\, . \n",
      "\n",
      "Rendering the predicted latex\n"
     ]
    },
    {
     "data": {
      "text/latex": [
       "$$\\beta ( Q ^ { 2 } ) = Q ^ { 2 } \\, \\int _ { 0 } ^ { \\infty } \\, { \\frac { d s } { ( s + Q ^ { 2 } ) ^ { 2 } } } \\, \\beta _ { s } ( s ) \\, . $$"
      ],
      "text/plain": [
       "<IPython.core.display.Math object>"
      ]
     },
     "metadata": {},
     "output_type": "display_data"
    },
    {
     "name": "stdout",
     "output_type": "stream",
     "text": [
      "\n",
      "\n",
      "Original (Input) Image: 19\n"
     ]
    },
    {
     "data": {
      "image/png": "[encoded data removed]",
      "text/plain": [
       "<IPython.core.display.Image object>"
      ]
     },
     "metadata": {},
     "output_type": "display_data"
    },
    {
     "name": "stdout",
     "output_type": "stream",
     "text": [
      "Predicted Latex\n",
      "\\zeta _ { R } ( s ) \\ = \\ 2 \\operatorname { s i n } ( s \\pi / 2 ) \\int _ { 0 } ^ { \\infty } d t \\frac { t ^ { - s } } { e ^ { \\pi t } - 1 } \\ . \n",
      "\n",
      "Rendering the predicted latex\n"
     ]
    },
    {
     "data": {
      "text/latex": [
       "$$\\zeta _ { R } ( s ) \\ = \\ 2 \\operatorname { s i n } ( s \\pi / 2 ) \\int _ { 0 } ^ { \\infty } d t \\frac { t ^ { - s } } { e ^ { \\pi t } - 1 } \\ . $$"
      ],
      "text/plain": [
       "<IPython.core.display.Math object>"
      ]
     },
     "metadata": {},
     "output_type": "display_data"
    },
    {
     "name": "stdout",
     "output_type": "stream",
     "text": [
      "\n",
      "\n",
      "Original (Input) Image: 20\n"
     ]
    },
    {
     "data": {
      "image/png": "[encoded data removed]",
      "text/plain": [
       "<IPython.core.display.Image object>"
      ]
     },
     "metadata": {},
     "output_type": "display_data"
    },
    {
     "name": "stdout",
     "output_type": "stream",
     "text": [
      "Predicted Latex\n",
      "\\int d t ^ { \\prime } G ( 0 , t ; 0 , t ^ { \\prime } ) = - \\frac { i } { 4 \\operatorname { c o s } \\frac { a _ { 1 } } { 2 } \\operatorname { c o s } \\frac { \\alpha _ { 1 } 2 } 2 } } . \n",
      "\n",
      "Rendering the predicted latex\n"
     ]
    },
    {
     "data": {
      "text/latex": [
       "$$\\int d t ^ { \\prime } G ( 0 , t ; 0 , t ^ { \\prime } ) = - \\frac { i } { 4 \\operatorname { c o s } \\frac { a _ { 1 } } { 2 } \\operatorname { c o s } \\frac { \\alpha _ { 1 } 2 } 2 } } . $$"
      ],
      "text/plain": [
       "<IPython.core.display.Math object>"
      ]
     },
     "metadata": {},
     "output_type": "display_data"
    },
    {
     "name": "stdout",
     "output_type": "stream",
     "text": [
      "\n",
      "\n"
     ]
    }
   ],
   "source": [
    "batch_size=20\n",
    "from PIL import Image as Img\n",
    "for i in xrange(batch_size):\n",
    "    preds_chars = idx_to_chars(preds[i,1:]).replace('$','')\n",
    "    print \"Original (Input) Image: %d\"%(i+1)\n",
    "    showarray(imgs[i][0])\n",
    "    print \"Predicted Latex\"\n",
    "    print preds_chars.split('#END')[0]\n",
    "    print \"\\nRendering the predicted latex\"\n",
    "    displayPreds(preds_chars)\n",
    "    print \"\\n\""
   ]
  },
  {
   "cell_type": "code",
   "execution_count": null,
   "metadata": {
    "collapsed": true
   },
   "outputs": [],
   "source": []
  }
 ],
 "metadata": {
  "anaconda-cloud": {},
  "kernelspec": {
   "display_name": "Python [default]",
   "language": "python",
   "name": "python2"
  },
  "language_info": {
   "codemirror_mode": {
    "name": "ipython",
    "version": 2
   },
   "file_extension": ".py",
   "mimetype": "text/x-python",
   "name": "python",
   "nbconvert_exporter": "python",
   "pygments_lexer": "ipython2",
   "version": "2.7.12"
  }
 },
 "nbformat": 4,
 "nbformat_minor": 1
}
