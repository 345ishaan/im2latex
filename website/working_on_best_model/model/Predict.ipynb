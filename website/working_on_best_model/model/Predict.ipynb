{
 "cells": [
  {
   "cell_type": "code",
   "execution_count": 1,
   "metadata": {
    "collapsed": true,
    "deletable": true,
    "editable": true
   },
   "outputs": [],
   "source": [
    "import numpy as np\n",
    "import re\n",
    "from IPython.display import display, Math, Latex, Image"
   ]
  },
  {
   "cell_type": "markdown",
   "metadata": {
    "deletable": true,
    "editable": true
   },
   "source": [
    "### Load properties file, result files created by predict() function"
   ]
  },
  {
   "cell_type": "code",
   "execution_count": 2,
   "metadata": {
    "collapsed": true,
    "deletable": true,
    "editable": true
   },
   "outputs": [],
   "source": [
    "import numpy as np\n",
    "imgs = np.load('pred_imgs_hw.npy')\n",
    "preds = np.load('pred_latex_hw.npy')\n",
    "properties = np.load('properties.npy').tolist()\n",
    "displayPreds = lambda Y: display(Math(Y.split('#END')[0]))\n",
    "idx_to_chars = lambda Y: ' '.join(map(lambda x: properties['idx_to_char'][x],Y))\n",
    "#displayIdxs = lambda Y: display(Math(''.join(map(lambda x: properties['idx_to_char'][x],Y))))"
   ]
  },
  {
   "cell_type": "markdown",
   "metadata": {
    "deletable": true,
    "editable": true
   },
   "source": [
    "### Prepare Image display function"
   ]
  },
  {
   "cell_type": "code",
   "execution_count": 3,
   "metadata": {
    "collapsed": true,
    "deletable": true,
    "editable": true
   },
   "outputs": [],
   "source": [
    "import PIL.Image\n",
    "from cStringIO import StringIO\n",
    "import IPython.display\n",
    "import numpy as np\n",
    "def showarray(a, fmt='png'):\n",
    "    a = np.uint8(a)\n",
    "    f = StringIO()\n",
    "    PIL.Image.fromarray(a).save(f, fmt)\n",
    "    IPython.display.display(IPython.display.Image(data=f.getvalue()))"
   ]
  },
  {
   "cell_type": "markdown",
   "metadata": {
    "deletable": true,
    "editable": true
   },
   "source": [
    "### Display original Input image, predicted latex tokens and render the corresponding result"
   ]
  },
  {
   "cell_type": "code",
   "execution_count": 4,
   "metadata": {
    "collapsed": false,
    "deletable": true,
    "editable": true
   },
   "outputs": [
    {
     "name": "stdout",
     "output_type": "stream",
     "text": [
      "Original (Input) Image: 1\n"
     ]
    },
    {
     "data": {
      "image/png": "[encoded data removed]",
      "text/plain": [
       "<IPython.core.display.Image object>"
      ]
     },
     "metadata": {},
     "output_type": "display_data"
    },
    {
     "name": "stdout",
     "output_type": "stream",
     "text": [
      "Predicted Latex\n",
      "\\gamma ^ { 2 } = ( \\beta / \\pi ) ^ { 2 } + ( \\beta / \\pi ) ^ { - 2 } \n",
      "\n",
      "Rendering the predicted latex\n"
     ]
    },
    {
     "data": {
      "text/latex": [
       "$$\\gamma ^ { 2 } = ( \\beta / \\pi ) ^ { 2 } + ( \\beta / \\pi ) ^ { - 2 } $$"
      ],
      "text/plain": [
       "<IPython.core.display.Math object>"
      ]
     },
     "metadata": {},
     "output_type": "display_data"
    },
    {
     "name": "stdout",
     "output_type": "stream",
     "text": [
      "\n",
      "\n"
     ]
    }
   ],
   "source": [
    "batch_size=1\n",
    "from PIL import Image as Img\n",
    "for i in xrange(batch_size):\n",
    "    preds_chars = idx_to_chars(preds[i,1:]).replace('$','')\n",
    "    print \"Original (Input) Image: %d\"%(i+1)\n",
    "    showarray(imgs[i][0])\n",
    "    print \"Predicted Latex\"\n",
    "    print preds_chars.split('#END')[0]\n",
    "    print \"\\nRendering the predicted latex\"\n",
    "    displayPreds(preds_chars)\n",
    "    print \"\\n\""
   ]
  },
  {
   "cell_type": "code",
   "execution_count": 6,
   "metadata": {
    "collapsed": false,
    "deletable": true,
    "editable": true
   },
   "outputs": [
    {
     "name": "stdout",
     "output_type": "stream",
     "text": [
      "'| { \\\\cal F } _ { z \\\\bar { b } } | ^ { 2 } = \\\\frac { 1 } { 4 } - f ^ { 2 } \\\\; . \n"
     ]
    }
   ],
   "source": [
    "print repr(preds_chars).split('#END')[0]"
   ]
  },
  {
   "cell_type": "code",
   "execution_count": 7,
   "metadata": {
    "collapsed": false,
    "deletable": true,
    "editable": true
   },
   "outputs": [
    {
     "data": {
      "text/plain": [
       "(1, 40, 200, 1)"
      ]
     },
     "execution_count": 7,
     "metadata": {},
     "output_type": "execute_result"
    }
   ],
   "source": [
    "imgs.shape"
   ]
  },
  {
   "cell_type": "code",
   "execution_count": 20,
   "metadata": {
    "collapsed": false
   },
   "outputs": [],
   "source": [
    "imgs = np.array(imgs.reshape(40,200),np.int)"
   ]
  },
  {
   "cell_type": "code",
   "execution_count": 21,
   "metadata": {
    "collapsed": false
   },
   "outputs": [],
   "source": [
    "import matplotlib.image as mpimg \n",
    "import matplotlib.pyplot as plt"
   ]
  },
  {
   "cell_type": "code",
   "execution_count": 24,
   "metadata": {
    "collapsed": false
   },
   "outputs": [
    {
     "data": {
      "text/plain": [
       "'\\\\gamma ^ { 2 } = ( \\\\beta / \\\\pi ) ^ { 2 } + ( \\\\beta / \\\\pi ) ^ { - 2 } #END #END #END #END #END #END #END #END #END #END #END #END #END #END #END , #END , #END ) ^ { - 2 } #END #END #END #END #END #END #END #END #END #END #END #END #END #END #END #END #END #END #END #END #END #END #END #END #END #END #END #END #END #END #END #END #END #END #END , #END ] ^ { - 2 } #END #END #END #END #END #END #END #END #END #END #END #END #END #END #END #END #END #END #END #END #END #END #END #END #END , #END ] ^ { - 2 } #END #END #END #END #END #END #END #END #END #END #END #END #END #END #END #END #END #END #END #END #END #END #END #END , #END ] ^ { - 2 }'"
      ]
     },
     "execution_count": 24,
     "metadata": {},
     "output_type": "execute_result"
    }
   ],
   "source": [
    "preds_chars."
   ]
  },
  {
   "cell_type": "code",
   "execution_count": null,
   "metadata": {
    "collapsed": true
   },
   "outputs": [],
   "source": []
  }
 ],
 "metadata": {
  "anaconda-cloud": {},
  "kernelspec": {
   "display_name": "Python 2",
   "language": "python",
   "name": "python2"
  },
  "language_info": {
   "codemirror_mode": {
    "name": "ipython",
    "version": 2
   },
   "file_extension": ".py",
   "mimetype": "text/x-python",
   "name": "python",
   "nbconvert_exporter": "python",
   "pygments_lexer": "ipython2",
   "version": "2.7.12"
  }
 },
 "nbformat": 4,
 "nbformat_minor": 1
}
